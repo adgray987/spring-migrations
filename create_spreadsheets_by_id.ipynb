{
 "cells": [
  {
   "cell_type": "markdown",
   "metadata": {
    "scrolled": true
   },
   "source": [
    "## Disaggregate a Spreadsheet by Collection ID\n",
    "Use collection identifiers in a specified column to create separate Excel spreadsheets (.xlsx) for every collection identifier and its corresponding row(s).\n",
    "\n",
    "### Requirements:\n",
    "- Pandas\n",
    "- Tabular data with a column for a collection identier. Identfier column could be EADID, collection name, accession number, etc."
   ]
  },
  {
   "cell_type": "code",
   "execution_count": null,
   "metadata": {
    "tags": [
     "hide-input"
    ]
   },
   "outputs": [],
   "source": [
    "# Set up environment\n",
    "import pandas as pd\n",
    "import numpy as np"
   ]
  },
  {
   "cell_type": "code",
   "execution_count": null,
   "metadata": {
    "scrolled": true
   },
   "outputs": [],
   "source": [
    "# Load file and create DataFrame. Modify file path and header argument as needed.\n",
    "file = \"path to your file\"\n",
    "records = pd.read_excel(file)\n",
    "\n",
    "# Specify column with the identifiers\n",
    "id_column = \"name of your id column\""
   ]
  },
  {
   "cell_type": "code",
   "execution_count": null,
   "metadata": {
    "scrolled": true
   },
   "outputs": [],
   "source": [
    "# Check the shape of the DataFrame (rows x columns)\n",
    "print(f'There are a total of {records.shape[0]} rows and {records.shape[1]} columns')"
   ]
  },
  {
   "cell_type": "code",
   "execution_count": null,
   "metadata": {
    "scrolled": true
   },
   "outputs": [],
   "source": [
    "# View null counts and dtypes for all columns\n",
    "records.info()"
   ]
  },
  {
   "cell_type": "code",
   "execution_count": null,
   "metadata": {},
   "outputs": [],
   "source": [
    "# Put all IDs into a sorted list\n",
    "ids =[]\n",
    "for row in records[id_column].unique():\n",
    "    ids.append(row)\n",
    "#ids.sort()\n",
    "print(ids[0:10])\n",
    "\n",
    "print(f\"{len(ids)} unique ids\")"
   ]
  },
  {
   "cell_type": "code",
   "execution_count": null,
   "metadata": {},
   "outputs": [],
   "source": [
    "# Create individual spreasheets for every group of rows correspondeing to the IDs\n",
    "# Length of list of ids will equal the number of spreadsheets\n",
    "# .dropna() method will remove empty columns; different spreadsheets will have different columns\n",
    "# depending on which columns are empty for that ID\n",
    "for i in ids:\n",
    "    df = records[records[id_column] == i].dropna(axis=1, how=\"all\")\n",
    "    # Change file path below as needed\n",
    "    df.to_excel(f\"{i}.xlsx\")"
   ]
  }
 ],
 "metadata": {
  "kernelspec": {
   "display_name": "Python 3",
   "language": "python",
   "name": "python3"
  },
  "language_info": {
   "codemirror_mode": {
    "name": "ipython",
    "version": 3
   },
   "file_extension": ".py",
   "mimetype": "text/x-python",
   "name": "python",
   "nbconvert_exporter": "python",
   "pygments_lexer": "ipython3",
   "version": "3.7.3"
  }
 },
 "nbformat": 4,
 "nbformat_minor": 2
}
