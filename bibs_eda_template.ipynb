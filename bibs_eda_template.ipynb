{
 "cells": [
  {
   "cell_type": "markdown",
   "metadata": {},
   "source": [
    "# Bib Records EDA Template"
   ]
  },
  {
   "cell_type": "markdown",
   "metadata": {},
   "source": [
    "## Requirements\n",
    "\n",
    "- Pandas"
   ]
  },
  {
   "cell_type": "markdown",
   "metadata": {},
   "source": [
    "## Data Source\n",
    "- From: ***\n",
    "- Date: ***\n",
    "- Notes:"
   ]
  },
  {
   "cell_type": "code",
   "execution_count": null,
   "metadata": {
    "scrolled": true
   },
   "outputs": [],
   "source": [
    "import pandas as pd\n",
    "#import numpy as np\n",
    "#from pandas.api.types import CategoricalDtype"
   ]
  },
  {
   "cell_type": "code",
   "execution_count": null,
   "metadata": {
    "scrolled": true
   },
   "outputs": [],
   "source": [
    "# Load data and create DataFrame. Modify file path and header argument as needed.\n",
    "file = 'change me'\n",
    "bibs = pd.read_excel(file)"
   ]
  },
  {
   "cell_type": "markdown",
   "metadata": {},
   "source": [
    "### Check dataframe"
   ]
  },
  {
   "cell_type": "code",
   "execution_count": null,
   "metadata": {},
   "outputs": [],
   "source": [
    "bibs.head()"
   ]
  },
  {
   "cell_type": "code",
   "execution_count": null,
   "metadata": {
    "scrolled": true
   },
   "outputs": [],
   "source": [
    "# Check the shape of the DataFrame (rows x columns)\n",
    "print(f'Total rows: {bibs.shape[0]}\\n')\n",
    "print(f'Total columns: {bibs.shape[1]}')"
   ]
  },
  {
   "cell_type": "code",
   "execution_count": null,
   "metadata": {
    "scrolled": true
   },
   "outputs": [],
   "source": [
    "# catalog_cols = []\n",
    "# for i in bibs.columns:\n",
    "#     if i.startswith(('bib','tag')):\n",
    "#         catalog_cols.append(i)\n",
    "# len(catalog_cols)"
   ]
  },
  {
   "cell_type": "code",
   "execution_count": null,
   "metadata": {},
   "outputs": [],
   "source": [
    "# Column info\n",
    "bibs.info()"
   ]
  },
  {
   "cell_type": "code",
   "execution_count": null,
   "metadata": {
    "scrolled": true
   },
   "outputs": [],
   "source": [
    "#for i, c in enumerate(bibs.columns, start=1):\n",
    "#    print(f'{i} {c}')"
   ]
  },
  {
   "cell_type": "markdown",
   "metadata": {},
   "source": [
    "### Big-picture stats"
   ]
  },
  {
   "cell_type": "code",
   "execution_count": null,
   "metadata": {},
   "outputs": [],
   "source": [
    "# Collections with the most records\n",
    "bibs[\"EADID for filtering\"].value_counts().head(10)"
   ]
  },
  {
   "cell_type": "code",
   "execution_count": null,
   "metadata": {},
   "outputs": [],
   "source": [
    "# Plot of record-per-collection counts\n",
    "bibs[\"EADID for filtering\"].value_counts().plot.hist(bins=50)"
   ]
  },
  {
   "cell_type": "code",
   "execution_count": null,
   "metadata": {},
   "outputs": [],
   "source": [
    "# Plot of record-per-collection counts with number of collections on log scale\n",
    "bibs[\"EADID for filtering\"].value_counts().plot.hist(bins=1000, logx=True)"
   ]
  },
  {
   "cell_type": "code",
   "execution_count": null,
   "metadata": {},
   "outputs": [],
   "source": [
    "unique = [\"EADID for filtering\", \"tag245 (TITLE STATEMENT)\", \"tag099\"]\n",
    "\n",
    "for u in unique:\n",
    "    count = len(bibs[u].unique())\n",
    "    print(f\"Unique {u}: {count}\")"
   ]
  },
  {
   "cell_type": "code",
   "execution_count": null,
   "metadata": {
    "scrolled": true
   },
   "outputs": [],
   "source": [
    "# Count records missing essential data\n",
    "min_desc_cols = unique + [\"tag300suba (EXTENT)\", \"tag520 (SUMMARY)\"]\n",
    "for i in min_desc_cols:\n",
    "    print(f\"{i}: {bibs[bibs[i].isna() == True].shape[0]}\")"
   ]
  },
  {
   "cell_type": "code",
   "execution_count": null,
   "metadata": {
    "scrolled": false
   },
   "outputs": [],
   "source": [
    "# Breakdown of bibs for each bib level\n",
    "print(bibs['bibLVL'].value_counts(dropna=False))"
   ]
  },
  {
   "cell_type": "code",
   "execution_count": null,
   "metadata": {
    "scrolled": true
   },
   "outputs": [],
   "source": [
    "# Has digital assets\n",
    "has_do = bibs[bibs[\"tag856 (ELECTRONIC LOCATION AND ACCESS)\"].notna()]\n",
    "print(f\"Records with associated digital assets: {len(has_do)}\")\n",
    "has_do[\"Correct Level of Description\"].value_counts()"
   ]
  },
  {
   "cell_type": "code",
   "execution_count": null,
   "metadata": {},
   "outputs": [],
   "source": [
    "# Common extents \n",
    "bibs[\"tag300suba (EXTENT)\"].value_counts().head(10)"
   ]
  },
  {
   "cell_type": "code",
   "execution_count": null,
   "metadata": {},
   "outputs": [],
   "source": [
    "# Plot extents\n",
    "bibs[\"tag300suba (EXTENT)\"].value_counts().head(20).plot.barh()"
   ]
  },
  {
   "cell_type": "code",
   "execution_count": null,
   "metadata": {},
   "outputs": [],
   "source": [
    "# More extents\n",
    "bibs[\"tag300subc (PHYSICAL DETAILS--DIMENSIONS)\"].value_counts().head(20).plot.barh()"
   ]
  },
  {
   "cell_type": "markdown",
   "metadata": {},
   "source": [
    "### Check out duplicate titles, etc."
   ]
  },
  {
   "cell_type": "code",
   "execution_count": null,
   "metadata": {
    "scrolled": true
   },
   "outputs": [],
   "source": [
    "# Most common duplicate title\n",
    "bibs['tag245 (TITLE STATEMENT)'].str.strip().str.replace(r'\\s+', ' ').value_counts().head(10)"
   ]
  },
  {
   "cell_type": "code",
   "execution_count": null,
   "metadata": {},
   "outputs": [],
   "source": [
    "# Most common duplicate film numbers\n",
    "bibs['tag099'].str.strip().str.replace(r'\\s+', ' ').value_counts().head(10)"
   ]
  },
  {
   "cell_type": "code",
   "execution_count": null,
   "metadata": {},
   "outputs": [],
   "source": [
    "# Are there duplicate *combinations* of film numbers and titles?\n",
    "tag_and_title = bibs['tag099'] + ': ' + bibs['tag245 (TITLE STATEMENT)']\n",
    "tag_and_title.str.strip().str.replace(r'\\s+', ' ').value_counts().head(10)"
   ]
  }
 ],
 "metadata": {
  "celltoolbar": "Raw Cell Format",
  "kernelspec": {
   "display_name": "Python 3",
   "language": "python",
   "name": "python3"
  },
  "language_info": {
   "codemirror_mode": {
    "name": "ipython",
    "version": 3
   },
   "file_extension": ".py",
   "mimetype": "text/x-python",
   "name": "python",
   "nbconvert_exporter": "python",
   "pygments_lexer": "ipython3",
   "version": "3.7.3"
  }
 },
 "nbformat": 4,
 "nbformat_minor": 4
}
